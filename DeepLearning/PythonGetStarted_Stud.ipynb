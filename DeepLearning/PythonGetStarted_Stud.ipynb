{
  "nbformat": 4,
  "nbformat_minor": 0,
  "metadata": {
    "colab": {
      "name": "PythonGetStarted_Stud.ipynb",
      "provenance": [],
      "collapsed_sections": []
    },
    "kernelspec": {
      "name": "python3",
      "display_name": "Python 3"
    }
  },
  "cells": [
    {
      "cell_type": "markdown",
      "metadata": {
        "id": "Ja58rrcWw6OS",
        "colab_type": "text"
      },
      "source": [
        "# Assignment: Get Started in Python & common libraries\n",
        "Complete this notebook for lecture 2.\n",
        "\n",
        "Then we will discuss it in groups & in class."
      ]
    },
    {
      "cell_type": "code",
      "metadata": {
        "id": "SodAeFeexIAj",
        "colab_type": "code",
        "colab": {}
      },
      "source": [
        "import sys\n",
        "import numpy as np\n",
        "import matplotlib as mpl\n",
        "import matplotlib.pyplot as plt\n",
        "\n",
        "print(\"Python version:\")\n",
        "print(sys.version)\n",
        "print(\"\\nNumpy version:\")\n",
        "print(np.__version__)\n",
        "print(\"\\nMatplotlib version:\")\n",
        "print(mpl.__version__)"
      ],
      "execution_count": null,
      "outputs": []
    },
    {
      "cell_type": "code",
      "metadata": {
        "id": "d10aOAoNyc3f",
        "colab_type": "code",
        "colab": {}
      },
      "source": [
        "# Create a list of 5 strings, where each string is some object that you can see near you\n",
        "list_of_things = []"
      ],
      "execution_count": null,
      "outputs": []
    },
    {
      "cell_type": "code",
      "metadata": {
        "id": "HMTIo_310TvB",
        "colab_type": "code",
        "colab": {}
      },
      "source": [
        "# Make a for loop that iterates over every element of your list and prints it out\n"
      ],
      "execution_count": null,
      "outputs": []
    },
    {
      "cell_type": "code",
      "metadata": {
        "id": "111YTo-h0mVh",
        "colab_type": "code",
        "colab": {}
      },
      "source": [
        "# Use np.arange() to create a numpy array that contains all integers between 0 and 100 (including 100)\n",
        "# Then write a for loop that iterates over every element and prints the number only if the number is even.\n",
        "# Hint: Use an if-statement and the modulus operator (%)\n",
        "array_of_ints = \n"
      ],
      "execution_count": null,
      "outputs": []
    },
    {
      "cell_type": "code",
      "metadata": {
        "id": "lNvUEXpl1zl5",
        "colab_type": "code",
        "colab": {}
      },
      "source": [
        "# We have given you a python list containing integers between 0 and 10.\n",
        "# Convert this list to a numpy array where every integer has been doubled (do not use a for loop for this) and print out the contents of the array.\n",
        "just_a_list = [0, 1, 2, 3, 4, 5, 6, 7, 8, 9, 10]\n"
      ],
      "execution_count": null,
      "outputs": []
    },
    {
      "cell_type": "code",
      "metadata": {
        "id": "B5AHF1Ex2d4m",
        "colab_type": "code",
        "colab": {}
      },
      "source": [
        "# We have given you a numpy array containing 50 random integers in the range between 0 and 1000.\n",
        "# We will use this in the next few cells.\n",
        "rand_ints = np.random.randint(low=0, high=1000, size=50)\n",
        "print(rand_ints)"
      ],
      "execution_count": null,
      "outputs": []
    },
    {
      "cell_type": "code",
      "metadata": {
        "id": "vOhQcSoq5Z2m",
        "colab_type": "code",
        "colab": {}
      },
      "source": [
        "# This code is filled with errors. There is one error on every line except the first and the last.\n",
        "# Hint: Remember that wrong indentations can give unexpected errors in Python.\n",
        "i = 0\n",
        "while i <= len(rand_ints):\n",
        "  if rand_ints[i] < 100\n",
        "    rand_ints(i) *= 5\n",
        "i+= 1\n",
        "\n",
        "print(rand_ints)"
      ],
      "execution_count": null,
      "outputs": []
    },
    {
      "cell_type": "code",
      "metadata": {
        "id": "3w7bqei-84PB",
        "colab_type": "code",
        "colab": {}
      },
      "source": [
        "# Find a numpy method that can sort rand_ints for you in ascending order.\n",
        "# Print the beautifully sorted array.\n",
        "\n",
        "sorted_array = "
      ],
      "execution_count": null,
      "outputs": []
    },
    {
      "cell_type": "code",
      "metadata": {
        "id": "79hAKmAO9R4X",
        "colab_type": "code",
        "colab": {}
      },
      "source": [
        "# Find numpy methods that can give you the smallest and largest integers in your array of integers.\n",
        "# Use these values to normalize your array of integers to be in the range between 0 and 1.\n",
        "# Hint: https://www.codecademy.com/articles/normalization#:~:text=Min%2Dmax%20normalization%20is%20one,decimal%20between%200%20and%201.\n",
        "\n",
        "max_val = \n",
        "min_val = \n",
        "normalized = \n",
        "\n",
        "# Check your code works by printing the normalized array\n",
        "# Question! Which data type are the values in your normalized array?\n"
      ],
      "execution_count": null,
      "outputs": []
    },
    {
      "cell_type": "code",
      "metadata": {
        "id": "N7V4UeQd-zfo",
        "colab_type": "code",
        "colab": {}
      },
      "source": [
        "# Find a numpy method for converting your normalized array to data type \"float16\"\n",
        "\n",
        "normalized = "
      ],
      "execution_count": null,
      "outputs": []
    },
    {
      "cell_type": "code",
      "metadata": {
        "id": "tPB23H7eAxRh",
        "colab_type": "code",
        "colab": {}
      },
      "source": [
        "# Make a python function that can take as argument a python list of integers. It must then do the following:\n",
        "# 1) Convert the python list to a numpy array\n",
        "# 2) Sort the array in ascending order\n",
        "# 3) Normalize the array to the range between -0.5 and 0.5\n",
        "# 4) Convert the array to data type \"float32\"\n",
        "# 5) Print the normalized array, its data type, and return it\n",
        "\n",
        "def normalizer():\n",
        "  \n",
        "  return \n",
        "\n",
        "l = list(range(0, 255))\n",
        "nor = normalizer(l)"
      ],
      "execution_count": null,
      "outputs": []
    },
    {
      "cell_type": "code",
      "metadata": {
        "id": "N9RXUIG7DFuI",
        "colab_type": "code",
        "colab": {}
      },
      "source": [
        "# Use the plot() method from matplotlib.pyplot to visualize your normalized array from the cell above.\n"
      ],
      "execution_count": null,
      "outputs": []
    },
    {
      "cell_type": "code",
      "metadata": {
        "id": "ApjJ6DoIDhfj",
        "colab_type": "code",
        "colab": {}
      },
      "source": [
        ""
      ],
      "execution_count": null,
      "outputs": []
    }
  ]
}